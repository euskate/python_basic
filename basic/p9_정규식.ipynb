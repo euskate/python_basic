{
 "cells": [
  {
   "cell_type": "markdown",
   "metadata": {},
   "source": [
    "### 정규식\n",
    "\n",
    "- 정규표현식\n",
    "- Regular Expression\n",
    "- 복잡한 문자열을 처리할 때 사용하는 기법\n",
    "    - 문자열에서 원하는 데이터만 추출, 가공, 삭제 <= 전처리/정제    "
   ]
  },
  {
   "cell_type": "code",
   "execution_count": 1,
   "metadata": {},
   "outputs": [],
   "source": [
    "# 1. 모듈 가져오기\n",
    "import re"
   ]
  },
  {
   "cell_type": "markdown",
   "metadata": {},
   "source": [
    "- 메타문자 (meta characters)\n",
    "    - 일반표현 : | . ^ $ * + ? {} () []\n",
    "    - 이스케이프 표현 : \\d, \\D, \\s \\S \\w \\W \\b \\B\n",
    "    \n",
    "- 함수\n",
    "    - match()\n",
    "    - search()\n",
    "    - findall()\n",
    "    - finditer()\n",
    "    - sub()\n",
    "    \n",
    "- 그룹핑\n",
    "- 전방탐색\n",
    "    - 긍정형 전방 탐색\n",
    "    - 부정형 전방 탐색\n",
    "\n",
    "- 컴파일 옵션"
   ]
  },
  {
   "cell_type": "code",
   "execution_count": 2,
   "metadata": {},
   "outputs": [
    {
     "data": {
      "text/plain": [
       "'\\nBTS (Korean: 방탄소년단;'"
      ]
     },
     "execution_count": 2,
     "metadata": {},
     "output_type": "execute_result"
    }
   ],
   "source": [
    "test_txt = '''\n",
    "BTS (Korean: 방탄소년단; RR: Bangtan Sonyeondan), also known as the Bangtan Boys, is a seven-member South Korean boy band formed in Seoul in 2013. The septet co-writes and produces much of their output. Originally a hip hop group, their musical style has evolved to include a wide range of genres. Their lyrics, often focused on personal and social commentary, touch on the themes of mental health, troubles of school-age youth, loss, the journey towards loving oneself, and individualism. Their work features references to literature and psychological concepts and includes an alternative universe storyline. The group have staged several world tours. \n",
    "'''\n",
    "test_txt[:20]"
   ]
  },
  {
   "cell_type": "code",
   "execution_count": 3,
   "metadata": {},
   "outputs": [],
   "source": [
    "# 원문에서 한글 제거\n",
    "# 한글 초성 + 중성 + 종성  => euc-kr, 16bit => 조합형 코드\n",
    "# 한글 가,갸,거,겨,        => utf-8,  8bit => 완성형 코드\n",
    "# 완성형 기준 => ㄱ ~ ㅣ -> 가 ~ 힣\n",
    "hangul = re.compile('[ㄱ-ㅣ가-힣]+')"
   ]
  },
  {
   "cell_type": "code",
   "execution_count": 4,
   "metadata": {},
   "outputs": [
    {
     "data": {
      "text/plain": [
       "'\\nBTS (Korean: ; RR: Bangtan Sonyeondan), also known as the Bangtan Boys, is a seven-member South Kor'"
      ]
     },
     "execution_count": 4,
     "metadata": {},
     "output_type": "execute_result"
    }
   ],
   "source": [
    "# 한글을 ''으로 대체해라 -> 제거해라\n",
    "hangul.sub( '', test_txt )[:100]"
   ]
  },
  {
   "cell_type": "code",
   "execution_count": 5,
   "metadata": {},
   "outputs": [],
   "source": [
    "alpha = re.compile('[a-zA-Z]+')"
   ]
  },
  {
   "cell_type": "code",
   "execution_count": 6,
   "metadata": {},
   "outputs": [
    {
     "data": {
      "text/plain": [
       "'\\n (: 방탄소년단; :  ),      ,   -         2013.   -      .     ,            .  ,       ,       ,   - , , '"
      ]
     },
     "execution_count": 6,
     "metadata": {},
     "output_type": "execute_result"
    }
   ],
   "source": [
    "alpha.sub( '', test_txt )[:100]"
   ]
  },
  {
   "cell_type": "markdown",
   "metadata": {},
   "source": [
    "- 1. 데이터를 보고 <= 통찰\n",
    "- 2. 정제 및 추출을 할 수 있는 표현식을 구현한 후 <= 정규식 구현\n",
    "- 3. 함수를 써서 데이터를 획득한다 <= 최종 추출\n"
   ]
  },
  {
   "cell_type": "markdown",
   "metadata": {},
   "source": [
    "### 메타 문자\n",
    "\n",
    "- **|**\n",
    "- 의미 : or"
   ]
  },
  {
   "cell_type": "code",
   "execution_count": 7,
   "metadata": {},
   "outputs": [
    {
     "name": "stdout",
     "output_type": "stream",
     "text": [
      "1. 매치된다\n",
      "2. 매치된다\n",
      "3. 매치된다\n"
     ]
    }
   ],
   "source": [
    "# re.match( 정규식, 데이터 )\n",
    "# re.match() : 특정 패턴이 데이터에 적용되었는지를 검사\n",
    "if re.match( 'a|b|c', 'a' ):print('1. 매치된다')\n",
    "if re.match( 'a|b|c', 'b' ):print('2. 매치된다')\n",
    "if re.match( 'a|b|c', 'c' ):print('3. 매치된다')"
   ]
  },
  {
   "cell_type": "code",
   "execution_count": 8,
   "metadata": {},
   "outputs": [
    {
     "name": "stdout",
     "output_type": "stream",
     "text": [
      "5. 매치된다\n"
     ]
    }
   ],
   "source": [
    "if re.match( 'a|b|c', 'd' ):print('4. 매치된다')\n",
    "# 한 개라도 일치되는 게 있으면 참\n",
    "if re.match( 'a|b|c', 'ad' ):print('5. 매치된다')\n",
    "# a나 b나 c중에 하나가 가장 먼저 시작한다(첫 글자) -> False\n",
    "if re.match( 'a|b|c', 'da' ):print('6. 매치된다')"
   ]
  },
  {
   "cell_type": "markdown",
   "metadata": {},
   "source": [
    "####  **[ ]**\n",
    "- 의미 : 문자 클래스\n",
    "- '['와  ']' 사이에는 어떤 문자도 들어갈 수 있다.\n",
    "- []는 문자 한개를 의미한다.\n",
    "- match(시작단어), search(전체 중 일치되는 단어)를 사용할 경우 한 개만 일치되도 참"
   ]
  },
  {
   "cell_type": "code",
   "execution_count": 9,
   "metadata": {},
   "outputs": [
    {
     "name": "stdout",
     "output_type": "stream",
     "text": [
      "1. 매치된다\n",
      "3. 매치된다\n",
      "4. 매치된다\n",
      "5. 매치된다\n"
     ]
    }
   ],
   "source": [
    "# 문자열은 a, b, c 중에 하나가 시작문자여야 한다.\n",
    "if re.match( '[abc]', 'a' ):print('1. 매치된다')\n",
    "if re.match( '[abc]', 'efz' ):print('2. 매치된다')\n",
    "if re.match( '[abc]', 'abd' ):print('3. 매치된다')\n",
    "if re.match( '[abc]', 'b56' ):print('4. 매치된다')\n",
    "    \n",
    "if re.search( '[abc]', '56b' ):print('5. 매치된다')"
   ]
  },
  {
   "cell_type": "markdown",
   "metadata": {},
   "source": [
    "####  **-**  \n",
    "- 의미 : [] 문자 클래스 안에 두 개의 문자 사이에 표현하면\n",
    "- from ~ to : 어디서부터 어디까지 범위를 표현"
   ]
  },
  {
   "cell_type": "code",
   "execution_count": 10,
   "metadata": {},
   "outputs": [
    {
     "name": "stdout",
     "output_type": "stream",
     "text": [
      "1. 매치된다\n",
      "2. 매치된다\n"
     ]
    }
   ],
   "source": [
    "if re.match( '[0123456789]', '1' ):print('1. 매치된다')\n",
    "if re.match( '[0-9]', '1' ):print('2. 매치된다')"
   ]
  },
  {
   "cell_type": "code",
   "execution_count": 11,
   "metadata": {},
   "outputs": [
    {
     "name": "stdout",
     "output_type": "stream",
     "text": [
      "4. 매치된다\n"
     ]
    }
   ],
   "source": [
    "if re.match( '[a-zA-Z]', '1' ): print('3. 매치된다')\n",
    "if re.match( '[a-zA-Z]', 'B' ): print('4. 매치된다')"
   ]
  },
  {
   "cell_type": "code",
   "execution_count": 12,
   "metadata": {},
   "outputs": [
    {
     "name": "stdout",
     "output_type": "stream",
     "text": [
      "6. 매치된다\n"
     ]
    }
   ],
   "source": [
    "if re.match( '[0-9a-z]', 'Aa' ): print('5. 매치된다')\n",
    "# 문자열 내에 존재하기만 하면 체크 됨.\n",
    "if re.search( '[0-9a-z]', 'Aa' ): print('6. 매치된다')"
   ]
  },
  {
   "cell_type": "code",
   "execution_count": 13,
   "metadata": {},
   "outputs": [
    {
     "name": "stdout",
     "output_type": "stream",
     "text": [
      "7. 매치된다\n"
     ]
    }
   ],
   "source": [
    "# 한글 완성형 코드(utf-8)\n",
    "if re.match( '[ㄱ-힣]', '가나다bc' ): print('7. 매치된다')"
   ]
  },
  {
   "cell_type": "markdown",
   "metadata": {},
   "source": [
    "#### **.**\n",
    "\n",
    "- 의미 : dot(.) 줄바꿈 기호 \\n을 제외하고 모든 문자에 매치\n",
    "- => 문자 클래스가 아닌 곳에서 해당 됨.\n",
    "- 문자 클래스 내부에서 .은 .이다."
   ]
  },
  {
   "cell_type": "code",
   "execution_count": 14,
   "metadata": {},
   "outputs": [
    {
     "name": "stdout",
     "output_type": "stream",
     "text": [
      "1. 매치된다\n",
      "2. 매치된다\n",
      "4. 매치된다\n",
      "5. 매치된다\n",
      "6. 매치된다\n",
      "7. 매치된다\n",
      "9. 매치된다\n"
     ]
    }
   ],
   "source": [
    "if re.match( '[a.b]', 'a' ): print('1. 매치된다')\n",
    "if re.match( '[a.b]', 'b' ): print('2. 매치된다')\n",
    "if re.match( '[a.b]', 'c' ): print('3. 매치된다')\n",
    "    \n",
    "if re.match( '[a.b]', 'ab' ): print('4. 매치된다')\n",
    "if re.match( '[a.b]', 'a1b' ): print('5. 매치된다')\n",
    "if re.match( '[a.b]', 'abc' ): print('6. 매치된다')\n",
    "if re.match( '[a.b]', 'bcd' ): print('7. 매치된다')\n",
    "if re.match( '[a.b]', 'cab' ): print('8. 매치된다')\n",
    "    \n",
    "if re.match( '[a.b]', '.ab' ): print('9. 매치된다')"
   ]
  },
  {
   "cell_type": "code",
   "execution_count": 15,
   "metadata": {},
   "outputs": [
    {
     "name": "stdout",
     "output_type": "stream",
     "text": [
      "3. 매치된다\n",
      "4. 매치된다\n"
     ]
    }
   ],
   "source": [
    "# a문자b라는 형태로 출발해야 통과\n",
    "if re.match( 'a.b', 'a' ): print('1. 매치된다')\n",
    "if re.match( 'a.b', 'abc' ): print('2. 매치된다')\n",
    "if re.match( 'a.b', 'a1b' ): print('3. 매치된다')\n",
    "if re.match( 'a.b', 'a2be' ): print('4. 매치된다')"
   ]
  },
  {
   "cell_type": "markdown",
   "metadata": {},
   "source": [
    "####  ^\n",
    "- 의미 :\n",
    "        일반 문자열 => 문자열의 맨 처음과 일치함을 의미\n",
    "        문자 클래스내 => 배제, 해당 문자 배제\n",
    "        re.MULTILINE => 각 라인의 처음과 일치함을 조사"
   ]
  },
  {
   "cell_type": "code",
   "execution_count": 16,
   "metadata": {},
   "outputs": [
    {
     "name": "stdout",
     "output_type": "stream",
     "text": [
      "2.매치된다\n",
      "3.매치된다\n",
      "4.매치된다\n"
     ]
    }
   ],
   "source": [
    "# [^0-9]: 숫자를 제외하고 모든 문자가 시작문자가 될 수 있다.\n",
    "if re.match( '[^0-9]', '1'): print('1.매치된다')\n",
    "if re.match( '[^0-9]', '가'): print('2.매치된다')\n",
    "if re.match( '[^0-9]', 'a'): print('3.매치된다')\n",
    "if re.match( '[^0-9]', 'ab'): print('4.매치된다')"
   ]
  },
  {
   "cell_type": "markdown",
   "metadata": {},
   "source": [
    "#### $\n",
    "- 의미 : 문자열의 맨 끝과 일치"
   ]
  },
  {
   "cell_type": "code",
   "execution_count": 17,
   "metadata": {},
   "outputs": [
    {
     "name": "stdout",
     "output_type": "stream",
     "text": [
      "1. 매치된다\n"
     ]
    }
   ],
   "source": [
    "# 숫자나 .으로 시작하고 끝난다.\n",
    "if re.match( '^[0-9\\.]$', '1' ): print('1. 매치된다')"
   ]
  },
  {
   "cell_type": "code",
   "execution_count": 18,
   "metadata": {},
   "outputs": [
    {
     "name": "stdout",
     "output_type": "stream",
     "text": [
      "1. 매치된다\n"
     ]
    }
   ],
   "source": [
    "if re.match( '^[0-9\\.]$', '.' ): print('1. 매치된다')"
   ]
  },
  {
   "cell_type": "code",
   "execution_count": 19,
   "metadata": {},
   "outputs": [],
   "source": [
    "# 문자열은 1개 -> 문자의 수량에서 False => 해결방안 * or +\n",
    "if re.match( '^[0-9\\.]$', '11' ): print('1. 매치된다')\n",
    "if re.match( '^[0-9\\.]$', '1.' ): print('2. 매치된다')\n",
    "if re.match( '^[0-9\\.]$', '.1' ): print('3. 매치된다')\n",
    "if re.match( '^[0-9\\.]$', '..' ): print('4. 매치된다')"
   ]
  },
  {
   "cell_type": "markdown",
   "metadata": {},
   "source": [
    "#### *\n",
    "- 의미 : *를 붙인 바로 앞 문자 0-무한대 반복"
   ]
  },
  {
   "cell_type": "markdown",
   "metadata": {},
   "source": [
    "#### +\n",
    "- 의미 :\n",
    "        +를 붙인 바로 앞 문자 1-무한대 반복\n",
    "        문자열 클래스 내부에서 기술하면 단순 +가 될수도 있고, 반복의 의미가 될 수도 있다.(주변값을 고려해서 해석)"
   ]
  },
  {
   "cell_type": "code",
   "execution_count": 20,
   "metadata": {},
   "outputs": [
    {
     "name": "stdout",
     "output_type": "stream",
     "text": [
      "1. 매치된다\n",
      "2. 매치된다\n",
      "3. 매치된다\n",
      "4. 매치된다\n"
     ]
    }
   ],
   "source": [
    "if re.match( '^[0-9\\.]+$', '11' ): print('1. 매치된다')\n",
    "if re.match( '^[0-9\\.]+$', '1.' ): print('2. 매치된다')\n",
    "if re.match( '^[0-9\\.]*$', '.1' ): print('3. 매치된다')\n",
    "if re.match( '^[0-9\\.]*$', '..' ): print('4. 매치된다')"
   ]
  },
  {
   "cell_type": "code",
   "execution_count": 21,
   "metadata": {},
   "outputs": [],
   "source": [
    "# 정규식의 패턴에 늘어감에 따라 match는 종합적인 조건을 따지게 된다.\n",
    "# 시작문자 and 끝문자 and 문자수 and 문자 성분\n",
    "if re.match( '^[0-9\\.]*$', '.asdf.' ): print('4. 매치된다')"
   ]
  },
  {
   "cell_type": "code",
   "execution_count": 22,
   "metadata": {},
   "outputs": [
    {
     "data": {
      "text/plain": [
       "'류현진의 국내 매니지먼트를 담당하는 에이스펙 코퍼레이션은 “류현진이 25일 출국할 예정”이라고 전했다.\\n\\n류현진은 메디컬테스트를 받고 이상이 발견되지 않으면 현지에서 입단 기자회견도 소화할 계획이다.\\n\\n앞서 자유계약선수(FA) 신분인 류현진은 23일 토론토와 4년 8000만 달러(약 929억4000만 원)에 입단하기로 합의했다. 국내에서 훈련하던\\n\\n류현진 대신해 에이전트 스콜 보라스가 협상을 진행했고, 토론토가 내민 조건에 합의했다. 미국과 캐나다 현지에서 기사가 쏟아졌지만 구단은 아직 확정 발표를 하지 않았다.\\n\\n한국인 투수 FA 최대 규모 계약은 박찬호가 2001년 12월 21일 텍사스 레인저스와 맺은 5년 6500만 달러다. \\n\\n류현진은 메디컬테스트를 통과하고 정식 계약서에 사인하는 순간 한국인 투수 FA 역대 최대 규모 계약의 주인공이 된다.\\n'"
      ]
     },
     "execution_count": 22,
     "metadata": {},
     "output_type": "execute_result"
    }
   ],
   "source": [
    "data = '''류현진의 국내 매니지먼트를 담당하는 에이스펙 코퍼레이션은 “류현진이 25일 출국할 예정”이라고 전했다.\n",
    "\n",
    "류현진은 메디컬테스트를 받고 이상이 발견되지 않으면 현지에서 입단 기자회견도 소화할 계획이다.\n",
    "\n",
    "앞서 자유계약선수(FA) 신분인 류현진은 23일 토론토와 4년 8000만 달러(약 929억4000만 원)에 입단하기로 합의했다. 국내에서 훈련하던\n",
    "\n",
    "류현진 대신해 에이전트 스콜 보라스가 협상을 진행했고, 토론토가 내민 조건에 합의했다. 미국과 캐나다 현지에서 기사가 쏟아졌지만 구단은 아직 확정 발표를 하지 않았다.\n",
    "\n",
    "한국인 투수 FA 최대 규모 계약은 박찬호가 2001년 12월 21일 텍사스 레인저스와 맺은 5년 6500만 달러다. \n",
    "\n",
    "류현진은 메디컬테스트를 통과하고 정식 계약서에 사인하는 순간 한국인 투수 FA 역대 최대 규모 계약의 주인공이 된다.\n",
    "'''\n",
    "data\n",
    "# 특정 단어가 시작문자로 여러줄에 걸쳐서 등장한다."
   ]
  },
  {
   "cell_type": "code",
   "execution_count": 23,
   "metadata": {},
   "outputs": [],
   "source": [
    "# 정규식을 컴파일하고,\n",
    "# 이를 이용하여 데이터를 처리한다.\n",
    "# \\s : whitespace (공백, 탭... etc)\n",
    "# \\w : 한 단어( +, * 통해서 늘릴 수 있다.)\n",
    "# 류현진으로 시작하고 한 칸 띄우고 단어 한 덩어리로 시작하는 문자열\n",
    "p = re.compile( '^류현진\\s\\w+')"
   ]
  },
  {
   "cell_type": "code",
   "execution_count": 24,
   "metadata": {},
   "outputs": [
    {
     "data": {
      "text/plain": [
       "[]"
      ]
     },
     "execution_count": 24,
     "metadata": {},
     "output_type": "execute_result"
    }
   ],
   "source": [
    "# 한번밖에 안 나온다 => 멀티 라인 미지원\n",
    "p.findall( data )"
   ]
  },
  {
   "cell_type": "code",
   "execution_count": 25,
   "metadata": {},
   "outputs": [
    {
     "data": {
      "text/plain": [
       "['류현진의', '류현진은', '류현진은']"
      ]
     },
     "execution_count": 25,
     "metadata": {},
     "output_type": "execute_result"
    }
   ],
   "source": [
    "# 문자열 전체의 단락별 시작문자열이 패턴과 일치하면 다 수집\n",
    "# 멀티 라인 지원\n",
    "p = re.compile( '^류현진\\w+', re.MULTILINE )\n",
    "p.findall(data)"
   ]
  },
  {
   "cell_type": "code",
   "execution_count": 26,
   "metadata": {},
   "outputs": [
    {
     "data": {
      "text/plain": [
       "['류현진의', '류현진이', '류현진은', '류현진은', '류현진은']"
      ]
     },
     "execution_count": 26,
     "metadata": {},
     "output_type": "execute_result"
    }
   ],
   "source": [
    "# 문자열 전체에 동일 패턴이 보이면 다 수집\n",
    "p = re.compile( '류현진\\w+', re.MULTILINE )\n",
    "p.findall(data)"
   ]
  },
  {
   "cell_type": "code",
   "execution_count": 27,
   "metadata": {},
   "outputs": [
    {
     "name": "stdout",
     "output_type": "stream",
     "text": [
      "4. 매치된다\n"
     ]
    }
   ],
   "source": [
    "# $ : 문자열의끝 패턴\n",
    "if re.match( '^[0-9]+[a-z]+$', '1' ): print('1. 매치된다')\n",
    "if re.match( '^[0-9]+[a-z]+$', '11' ): print('2. 매치된다')\n",
    "if re.match( '^[0-9]+[a-z]+$', '111111A' ): print('3. 매치된다')\n",
    "if re.match( '^[0-9]+[a-z]+$', '111111a' ): print('4. 매치된다')"
   ]
  },
  {
   "cell_type": "code",
   "execution_count": 28,
   "metadata": {},
   "outputs": [
    {
     "name": "stdout",
     "output_type": "stream",
     "text": [
      "1. 매치된다\n",
      "2. 매치된다\n",
      "3. 매치된다\n"
     ]
    }
   ],
   "source": [
    "# 반복\n",
    "# * : 0~무한대, 없어도 되고 많이 있어도 되고\n",
    "if re.match( 'bus*an', 'buan' ): print('1. 매치된다')\n",
    "if re.match( 'bus*an', 'busan' ): print('2. 매치된다')\n",
    "if re.match( 'bus*an', 'bussan' ): print('3. 매치된다')"
   ]
  },
  {
   "cell_type": "code",
   "execution_count": 29,
   "metadata": {},
   "outputs": [
    {
     "name": "stdout",
     "output_type": "stream",
     "text": [
      "2. 매치된다\n",
      "3. 매치된다\n"
     ]
    }
   ],
   "source": [
    "# + : 1~무한대\n",
    "if re.match( 'bus+an', 'buan' ): print('1. 매치된다')\n",
    "if re.match( 'bus+an', 'busan' ): print('2. 매치된다')\n",
    "if re.match( 'bus+an', 'bussan' ): print('3. 매치된다')"
   ]
  },
  {
   "cell_type": "markdown",
   "metadata": {},
   "source": [
    "- {}\n",
    "    - 반복 횟수 지정\n",
    "    - {2} 2번 반복\n",
    "    - {2, 3} 2부터 3까지 반복\n",
    "- ?\n",
    "    - {0, 1}\n",
    "    - 0번 OK, 1번 OK\n",
    "    - 안 나오든지, 1번만 나오든지\n",
    "    "
   ]
  },
  {
   "cell_type": "code",
   "execution_count": 30,
   "metadata": {},
   "outputs": [
    {
     "name": "stdout",
     "output_type": "stream",
     "text": [
      "3. 매치된다\n"
     ]
    }
   ],
   "source": [
    "if re.match( 'bus{2}an', 'buan' ): print('1. 매치된다')\n",
    "if re.match( 'bus{2}an', 'busan' ): print('2. 매치된다')\n",
    "if re.match( 'bus{2}an', 'bussan' ): print('3. 매치된다')"
   ]
  },
  {
   "cell_type": "code",
   "execution_count": 31,
   "metadata": {},
   "outputs": [
    {
     "name": "stdout",
     "output_type": "stream",
     "text": [
      "1. 매치된다\n",
      "2. 매치된다\n",
      "3. 매치된다\n"
     ]
    }
   ],
   "source": [
    "# 문자 클래스 안에서는 본질적인 의미가 없어진다. 그냥 문자로 본다.\n",
    "if re.match( '[bus{2}an]', 'buan' ): print('1. 매치된다')\n",
    "if re.match( '[bus{2}an]', 'busan' ): print('2. 매치된다')\n",
    "if re.match( '[bus{2}an]', 'bussan' ): print('3. 매치된다')\n",
    "    # 반복하고 싶으면 클래스 [] 바깥에서 "
   ]
  },
  {
   "cell_type": "code",
   "execution_count": 32,
   "metadata": {},
   "outputs": [
    {
     "name": "stdout",
     "output_type": "stream",
     "text": [
      "3. 매치된다\n",
      "4. 매치된다\n"
     ]
    }
   ],
   "source": [
    "if re.match( 'bus{2,3}an', 'buan' ): print('1. 매치된다')\n",
    "if re.match( 'bus{2,3}an', 'busan' ): print('2. 매치된다')\n",
    "if re.match( 'bus{2,3}an', 'bussan' ): print('3. 매치된다')\n",
    "if re.match( 'bus{2,3}an', 'busssan' ): print('4. 매치된다')\n",
    "if re.match( 'bus{2,3}an', 'bussssan' ): print('5. 매치된다')"
   ]
  },
  {
   "cell_type": "code",
   "execution_count": 33,
   "metadata": {},
   "outputs": [
    {
     "name": "stdout",
     "output_type": "stream",
     "text": [
      "3. 매치된다\n",
      "4. 매치된다\n",
      "5. 매치된다\n"
     ]
    }
   ],
   "source": [
    "# 범위 안에서 전부 OK\n",
    "if re.match( 'bus{2,4}an', 'buan' ): print('1. 매치된다')\n",
    "if re.match( 'bus{2,4}an', 'busan' ): print('2. 매치된다')\n",
    "if re.match( 'bus{2,4}an', 'bussan' ): print('3. 매치된다')\n",
    "if re.match( 'bus{2,4}an', 'busssan' ): print('4. 매치된다')\n",
    "if re.match( 'bus{2,4}an', 'bussssan' ): print('5. 매치된다')"
   ]
  },
  {
   "cell_type": "code",
   "execution_count": 34,
   "metadata": {},
   "outputs": [
    {
     "name": "stdout",
     "output_type": "stream",
     "text": [
      "1. 매치된다\n",
      "2. 매치된다\n"
     ]
    }
   ],
   "source": [
    "# ?\n",
    "if re.match( 'bus?an', 'buan' ): print('1. 매치된다')\n",
    "if re.match( 'bus?an', 'busan' ): print('2. 매치된다')\n",
    "if re.match( 'bus?an', 'bussan' ): print('3. 매치된다')"
   ]
  },
  {
   "cell_type": "markdown",
   "metadata": {},
   "source": [
    "아래는 연습"
   ]
  },
  {
   "cell_type": "code",
   "execution_count": 35,
   "metadata": {},
   "outputs": [],
   "source": [
    "# 핸드폰 전화번호 정규식\n",
    "# 010-숫자4개-숫자4개\n",
    "tel = re.compile( '01[0-9]-[0-9]{3,4}-[0-9]{4}' )"
   ]
  },
  {
   "cell_type": "code",
   "execution_count": 36,
   "metadata": {},
   "outputs": [],
   "source": [
    "data = '''가나다라마바사010-1234-5678가마다라달미abvc010-1111-2222dsadk fldsajflew016-223-23423\n",
    "dsafsdflkadjflw010-4444-5555da flkfjlaew010-33-23243233-010-2342-4433ds afnl016-324-3214asjdl\n",
    "dsajlkdslkjds011-2222-4344fsjklajlk011-443-8990dsaklf  ajdlasjlks\n",
    "'''"
   ]
  },
  {
   "cell_type": "code",
   "execution_count": 37,
   "metadata": {
    "scrolled": true
   },
   "outputs": [
    {
     "data": {
      "text/plain": [
       "['010-1234-5678',\n",
       " '010-1111-2222',\n",
       " '016-223-2342',\n",
       " '010-4444-5555',\n",
       " '010-2342-4433',\n",
       " '016-324-3214',\n",
       " '011-2222-4344',\n",
       " '011-443-8990']"
      ]
     },
     "execution_count": 37,
     "metadata": {},
     "output_type": "execute_result"
    }
   ],
   "source": [
    "tel.findall(data)"
   ]
  },
  {
   "cell_type": "code",
   "execution_count": 38,
   "metadata": {},
   "outputs": [],
   "source": [
    "email = re.compile( '[a-zA-Z0-9]+@[a-zA-Z0-9]+.com|[a-zA-Z0-9]+@[a-zA-Z0-9]+.net')"
   ]
  },
  {
   "cell_type": "code",
   "execution_count": 39,
   "metadata": {},
   "outputs": [],
   "source": [
    "data = '''\n",
    "dsfhkjldefrhkjqewhkj/email@email.comdsafdsa/fdsawakl90-_goo@gmail.comㄱㅁ나ㅓㅁㄴ어ㅣㅏㄴㅁㅇ\n",
    "ㅇ람ㄴㅇ리ㅏㅓㅁㄴㅁㄺ디마dfsalkdf@naver.comdsakjfhsadkjeus07@daum.net강ㄴ미ㅏㅓ니ㅏㅓ\n",
    "'''"
   ]
  },
  {
   "cell_type": "code",
   "execution_count": 40,
   "metadata": {},
   "outputs": [
    {
     "data": {
      "text/plain": [
       "['email@email.com',\n",
       " 'goo@gmail.com',\n",
       " 'dfsalkdf@naver.com',\n",
       " 'dsakjfhsadkjeus07@daum.net']"
      ]
     },
     "execution_count": 40,
     "metadata": {},
     "output_type": "execute_result"
    }
   ],
   "source": [
    "email.findall(data)"
   ]
  },
  {
   "cell_type": "markdown",
   "metadata": {},
   "source": [
    "연습 끝"
   ]
  },
  {
   "cell_type": "code",
   "execution_count": 41,
   "metadata": {},
   "outputs": [
    {
     "name": "stdout",
     "output_type": "stream",
     "text": [
      "1. 매치된다\n"
     ]
    }
   ],
   "source": [
    "# 핸드폰 전화번호 정규식\n",
    "# 010-숫자4개-숫자4개\n",
    "if re.match('^010-[0-9]{4}-[0-9]{4}$', '010-1234-5678'):\n",
    "    print('1. 매치된다')"
   ]
  },
  {
   "cell_type": "markdown",
   "metadata": {},
   "source": [
    "### 메타문자 > 이스케이프\n",
    "\n",
    "- \\d <-> \\D\n",
    "- \\s <-> \\S\n",
    "- \\w <-> \\W\n",
    "- \\b <-> \\B\n",
    "- 기타\n",
    "    - 문자 클래스에서 특수문자, 화이트스페이스 등을 표현할 때\n",
    "    - . -> \\ . 이런식으로 표현할 수 있다."
   ]
  },
  {
   "cell_type": "code",
   "execution_count": 42,
   "metadata": {},
   "outputs": [
    {
     "name": "stdout",
     "output_type": "stream",
     "text": [
      "1. 매치된다\n"
     ]
    }
   ],
   "source": [
    "# \\d : 숫자 => [0-9]\n",
    "if re.match( '[\\d]', '1' ): print('1. 매치된다')\n",
    "if re.match( '[\\d]', 'a' ): print('2. 매치된다')"
   ]
  },
  {
   "cell_type": "code",
   "execution_count": 43,
   "metadata": {},
   "outputs": [
    {
     "name": "stdout",
     "output_type": "stream",
     "text": [
      "2. 매치된다\n"
     ]
    }
   ],
   "source": [
    "# \\D : 숫자 말고 나머지 => [^0-9]\n",
    "if re.match( '[\\D]', '1' ): print('1. 매치된다')\n",
    "if re.match( '[\\D]', 'a' ): print('2. 매치된다')"
   ]
  },
  {
   "cell_type": "code",
   "execution_count": 44,
   "metadata": {},
   "outputs": [
    {
     "name": "stdout",
     "output_type": "stream",
     "text": [
      "1. 매치된다\n"
     ]
    }
   ],
   "source": [
    "# \\s : whitespace : \\t, \\n, \\r, \\f, \\v \n",
    "# 수평탭, 개행, 캐리지리턴, 폼피드, 수직탭\n",
    "# 눈에 보이지 않고, 공백처럼 보이면서 문자열 상에 정보를 제공하는 문자\n",
    "if re.match( '[\\s]', ' \\t\\n\\r\\f\\v' ): print('1. 매치된다')\n",
    "if re.match( '[\\s]', 'a \\t\\n\\r\\f\\v' ): print('2. 매치된다')"
   ]
  },
  {
   "cell_type": "code",
   "execution_count": 45,
   "metadata": {},
   "outputs": [
    {
     "name": "stdout",
     "output_type": "stream",
     "text": [
      "2. 매치된다\n"
     ]
    }
   ],
   "source": [
    "# \\S : whitespace가 아닌 문자\n",
    "if re.match( '[\\S]', ' \\t\\n\\r\\f\\v' ): print('1. 매치된다')\n",
    "if re.match( '[\\S]', 'a \\t\\n\\r\\f\\v' ): print('2. 매치된다')"
   ]
  },
  {
   "cell_type": "code",
   "execution_count": 46,
   "metadata": {},
   "outputs": [
    {
     "name": "stdout",
     "output_type": "stream",
     "text": [
      "1. 매치된다\n",
      "2. 매치된다\n",
      "3. 매치된다\n",
      "4. 매치된다\n"
     ]
    }
   ],
   "source": [
    "# \\w : 문자, 숫자와 매치 : [a-zA-Z0-9_ㄱ-힣], 언어면 다 OK\n",
    "if re.match( '[\\w]', 'a0' ): print('1. 매치된다')\n",
    "if re.match( '[\\w]', '가' ): print('2. 매치된다')\n",
    "if re.match( '[\\w]', '1' ): print('3. 매치된다')\n",
    "if re.match( '[\\w]', '_' ): print('4. 매치된다')"
   ]
  },
  {
   "cell_type": "code",
   "execution_count": 47,
   "metadata": {},
   "outputs": [
    {
     "name": "stdout",
     "output_type": "stream",
     "text": [
      "2. 매치된다\n",
      "3. 매치된다\n",
      "4. 매치된다\n"
     ]
    }
   ],
   "source": [
    "# \\w : 문자, 숫자가 아닌 문자와 매치, 특수문자, 이스케이프문자\n",
    "# [^a-zA-Z0-9ㄱ-힣]\n",
    "if re.match( '[\\W]', 'a' ): print('1. 매치된다')\n",
    "if re.match( '[\\W]', '\\t' ): print('2. 매치된다')\n",
    "if re.match( '[\\W]', '★' ): print('3. 매치된다')\n",
    "if re.match( '[\\W]', ' ' ): print('4. 매치된다')"
   ]
  },
  {
   "cell_type": "code",
   "execution_count": 48,
   "metadata": {},
   "outputs": [
    {
     "name": "stdout",
     "output_type": "stream",
     "text": [
      "ABC가나다\t]\n",
      "라\n"
     ]
    }
   ],
   "source": [
    "# 일반 문자열은 인용부호(예:줄바꿈...)는 해석되서 처리된다.\n",
    "a = 'ABC가나다\\t]\\n라'\n",
    "print(a)"
   ]
  },
  {
   "cell_type": "code",
   "execution_count": 49,
   "metadata": {},
   "outputs": [
    {
     "name": "stdout",
     "output_type": "stream",
     "text": [
      "ABC가나다\\t]\\n라 <class 'str'>\n"
     ]
    }
   ],
   "source": [
    "# 만약 데이터를 그대로 받고 싶다면\n",
    "# Raw String\n",
    "# 이스케이프 문자가 적용되지 않는다.\n",
    "a = r'ABC가나다\\t]\\n라'\n",
    "print(a, type(a))"
   ]
  },
  {
   "cell_type": "code",
   "execution_count": 50,
   "metadata": {},
   "outputs": [],
   "source": [
    "# \\b 단어구분자 (word boundary)\n",
    "# 일반 단어는 whitespace로 구분된다.\n",
    "# \\b는 일반 단어에서 백키로 인식한다. 이 자체를 그대로 인식하게\n",
    "# 하기 위해서 raw string으로 표현해야 한다.\n",
    "p = re.compile( r'\\bclass\\b' )"
   ]
  },
  {
   "cell_type": "code",
   "execution_count": 51,
   "metadata": {},
   "outputs": [
    {
     "name": "stdout",
     "output_type": "stream",
     "text": [
      "<re.Match object; span=(3, 8), match='class'> class\n"
     ]
    }
   ],
   "source": [
    "m = p.search( 'no class at 1234')\n",
    "print( m, m.group() )"
   ]
  },
  {
   "cell_type": "code",
   "execution_count": 52,
   "metadata": {},
   "outputs": [
    {
     "name": "stdout",
     "output_type": "stream",
     "text": [
      "None\n"
     ]
    }
   ],
   "source": [
    "m = p.search( 'the classifier at one' )\n",
    "print( m )"
   ]
  },
  {
   "cell_type": "markdown",
   "metadata": {},
   "source": [
    "### 함수\n",
    "\n",
    "- match()\n",
    "    - 문자열의 처음부터 정규식과 매칭되는지 조사\n",
    "- search()\n",
    "    - 문자열 전체를 검색하여 매칭되는지 조사\n",
    "- findall()\n",
    "    - 정규식에 매칭되는 모든 문자열을 리스트로 리턴\n",
    "- finditer)\n",
    "    - 정규식에 매칭되는 모든 문자열을 iterator로 리턴\n",
    "- sub()\n",
    "    - 규칙에 매칭되는 부분을 다른 문자로 변경"
   ]
  },
  {
   "cell_type": "code",
   "execution_count": 53,
   "metadata": {},
   "outputs": [],
   "source": [
    "# 숫자가 나오고, 1~무한대로 반복될 수 있다.\n",
    "p = re.compile( '[0-9]+')"
   ]
  },
  {
   "cell_type": "code",
   "execution_count": 54,
   "metadata": {},
   "outputs": [
    {
     "name": "stdout",
     "output_type": "stream",
     "text": [
      "None\n"
     ]
    }
   ],
   "source": [
    "# 매칭되는 것이 없다 => None\n",
    "r = p.match( 'abcd5' )\n",
    "print( r )"
   ]
  },
  {
   "cell_type": "code",
   "execution_count": 55,
   "metadata": {},
   "outputs": [
    {
     "name": "stdout",
     "output_type": "stream",
     "text": [
      "<re.Match object; span=(0, 1), match='5'>\n",
      "5 일치되는 데이터가 나온다.\n"
     ]
    }
   ],
   "source": [
    "r = p.match( '5' )\n",
    "print( r )\n",
    "if r:\n",
    "    print( r.group(), '일치되는 데이터가 나온다.' )"
   ]
  },
  {
   "cell_type": "code",
   "execution_count": 56,
   "metadata": {},
   "outputs": [
    {
     "name": "stdout",
     "output_type": "stream",
     "text": [
      "<re.Match object; span=(0, 3), match='123'>\n",
      "123 일치되는 데이터가 나온다.\n"
     ]
    }
   ],
   "source": [
    "r = p.match( '123abcd' )\n",
    "print( r )\n",
    "if r:\n",
    "    print( r.group(), '일치되는 데이터가 나온다.' )\n",
    "else:\n",
    "    print('일치되는 데이터가 없다.')"
   ]
  },
  {
   "cell_type": "code",
   "execution_count": 61,
   "metadata": {},
   "outputs": [],
   "source": [
    "data = 'i am a HuMan. 2020 가나다라마바사 !@#$'\n",
    "# 소문자만 찾아서, 소문자 글자 리스트를 리턴해라."
   ]
  },
  {
   "cell_type": "code",
   "execution_count": 62,
   "metadata": {},
   "outputs": [
    {
     "data": {
      "text/plain": [
       "['i', 'am', 'a', 'u', 'an']"
      ]
     },
     "execution_count": 62,
     "metadata": {},
     "output_type": "execute_result"
    }
   ],
   "source": [
    "p = re.compile( '[a-z]+')\n",
    "p.findall( data )"
   ]
  },
  {
   "cell_type": "code",
   "execution_count": 66,
   "metadata": {},
   "outputs": [
    {
     "name": "stdout",
     "output_type": "stream",
     "text": [
      "i 0 1 (0, 1)\n",
      "am 2 4 (2, 4)\n",
      "a 5 6 (5, 6)\n",
      "u 8 9 (8, 9)\n",
      "an 10 12 (10, 12)\n"
     ]
    }
   ],
   "source": [
    "r = p.finditer (data)\n",
    "for n in r:\n",
    "    # 실제값, 시작인덱스, 끝인덱스, 인덱스튜플값\n",
    "    print(n.group(), n.start(), n.end(), n.span())"
   ]
  },
  {
   "cell_type": "code",
   "execution_count": 67,
   "metadata": {},
   "outputs": [],
   "source": [
    "# 매치되는 부분을 다른 문자로 변경\n",
    "p = re.compile( '(blue|red|white)' )"
   ]
  },
  {
   "cell_type": "code",
   "execution_count": 70,
   "metadata": {},
   "outputs": [
    {
     "data": {
      "text/plain": [
       "'색상 케이크 그리고 색상 와인을 가지고 집에 가세요'"
      ]
     },
     "execution_count": 70,
     "metadata": {},
     "output_type": "execute_result"
    }
   ],
   "source": [
    "# 문자열 대체\n",
    "p.sub( '색상', 'white 케이크 그리고 red 와인을 가지고 집에 가세요' )"
   ]
  },
  {
   "cell_type": "code",
   "execution_count": 71,
   "metadata": {},
   "outputs": [
    {
     "data": {
      "text/plain": [
       "' 케이크 그리고  와인을 가지고 집에 가세요'"
      ]
     },
     "execution_count": 71,
     "metadata": {},
     "output_type": "execute_result"
    }
   ],
   "source": [
    "# 문자열 제거\n",
    "p.sub( '', 'white 케이크 그리고 red 와인을 가지고 집에 가세요' )"
   ]
  },
  {
   "cell_type": "code",
   "execution_count": 72,
   "metadata": {},
   "outputs": [
    {
     "data": {
      "text/plain": [
       "('\\nBTS (Korean: 방탄소년단;', 650)"
      ]
     },
     "execution_count": 72,
     "metadata": {},
     "output_type": "execute_result"
    }
   ],
   "source": [
    "test_txt[:20], len(test_txt)"
   ]
  },
  {
   "cell_type": "code",
   "execution_count": 89,
   "metadata": {},
   "outputs": [
    {
     "data": {
      "text/plain": [
       "'BTS Korean  RR Bangtan Sonyeondan also known as the Bangtan Boys is a sevenmember South Korean boy band formed in Seoul in  The septet cowrites and produces much of their output Originally a hip hop group their musical style has evolved to include a wide range of genres Their lyrics often focused on personal and social commentary touch on the themes of mental health troubles of schoolage youth loss the journey towards loving oneself and individualism Their work features references to literature and psychological concepts and includes an alternative universe storyline The group have staged several world tours '"
      ]
     },
     "execution_count": 89,
     "metadata": {},
     "output_type": "execute_result"
    }
   ],
   "source": [
    "# 한글\n",
    "han = re.compile( '[ㄱ-힣\\n\\:\\;\\(\\)\\,\\.0-9\\-\\']+' )\n",
    "han.sub('', test_txt)"
   ]
  },
  {
   "cell_type": "code",
   "execution_count": 91,
   "metadata": {},
   "outputs": [
    {
     "data": {
      "text/plain": [
       "'BTS (Korean: ; RR: Bangtan Sonyeondan), also known as the Bangtan Boys, is a seven-member Sout'"
      ]
     },
     "execution_count": 91,
     "metadata": {},
     "output_type": "execute_result"
    }
   ],
   "source": [
    "# 한글\n",
    "# ascii를 이용하여 특수문자의 값의 범위를 활용하여 제거 가능\n",
    "# => ex [\\x3A-\\x3F]\n",
    "# 비영어권은 유니코드 혹은 완성형 코드의 숫치값 범위를 활용하여 제거한다.\n",
    "# => ex [\\u3A-\\u3F]\n",
    "han = re.compile( '[ㄱ-힣\\n]+' )\n",
    "han.sub('', test_txt[:100])"
   ]
  },
  {
   "cell_type": "markdown",
   "metadata": {},
   "source": [
    "### 그룹핑\n",
    "\n",
    "- 그룹을 만들어주는 메타 문자 ()"
   ]
  },
  {
   "cell_type": "code",
   "execution_count": 93,
   "metadata": {},
   "outputs": [],
   "source": [
    "p = re.compile( '(123)+' )"
   ]
  },
  {
   "cell_type": "code",
   "execution_count": 99,
   "metadata": {},
   "outputs": [
    {
     "data": {
      "text/plain": [
       "<re.Match object; span=(0, 15), match='123123123123123'>"
      ]
     },
     "execution_count": 99,
     "metadata": {},
     "output_type": "execute_result"
    }
   ],
   "source": [
    "m = p.match( '123123123123123 123123 check?' )\n",
    "m"
   ]
  },
  {
   "cell_type": "code",
   "execution_count": 100,
   "metadata": {},
   "outputs": [
    {
     "data": {
      "text/plain": [
       "('123123123123123', '123123123123123', '123')"
      ]
     },
     "execution_count": 100,
     "metadata": {},
     "output_type": "execute_result"
    }
   ],
   "source": [
    "m.group(), m.group(0), m.group(1)"
   ]
  },
  {
   "cell_type": "markdown",
   "metadata": {},
   "source": [
    "- m.group(0)\n",
    "    - 매칭된 모든 문자열\n",
    "- m.group(1)\n",
    "    - 첫번째 그룹의 문자열\n",
    "- m.group(2)\n",
    "    - 두번째 그룹의 문자열\n",
    "- m.group(n)\n",
    "    - n번째 그룹의 문자열"
   ]
  },
  {
   "cell_type": "code",
   "execution_count": 102,
   "metadata": {},
   "outputs": [],
   "source": [
    "# 이표현대로 문자열을 표현한다면?\n",
    "# r'\\w+\\s+\\d+[-]\\d+[-]\\d+'\n",
    "p = re.compile(r'\\w+\\s+\\d+[-]\\d+[-]\\d+')"
   ]
  },
  {
   "cell_type": "code",
   "execution_count": 103,
   "metadata": {},
   "outputs": [],
   "source": [
    "m = p.search( '부산대역 010-1234-5678 abcd')"
   ]
  },
  {
   "cell_type": "code",
   "execution_count": 105,
   "metadata": {},
   "outputs": [
    {
     "data": {
      "text/plain": [
       "'부산대역 010-1234-5678'"
      ]
     },
     "execution_count": 105,
     "metadata": {},
     "output_type": "execute_result"
    }
   ],
   "source": [
    "m.group()"
   ]
  },
  {
   "cell_type": "code",
   "execution_count": 107,
   "metadata": {},
   "outputs": [
    {
     "data": {
      "text/plain": [
       "()"
      ]
     },
     "execution_count": 107,
     "metadata": {},
     "output_type": "execute_result"
    }
   ],
   "source": [
    "m.groups()\n",
    "# 그룹이 없다 -> 정규식에 그룹화 표현이 없다."
   ]
  },
  {
   "cell_type": "code",
   "execution_count": 108,
   "metadata": {},
   "outputs": [
    {
     "data": {
      "text/plain": [
       "'부산대역 010-1234-5678'"
      ]
     },
     "execution_count": 108,
     "metadata": {},
     "output_type": "execute_result"
    }
   ],
   "source": [
    "m.group(0)"
   ]
  },
  {
   "cell_type": "code",
   "execution_count": 112,
   "metadata": {},
   "outputs": [
    {
     "data": {
      "text/plain": [
       "'1234'"
      ]
     },
     "execution_count": 112,
     "metadata": {},
     "output_type": "execute_result"
    }
   ],
   "source": [
    "m.group().split()[1].split('-')[1]  # 전화번호중 가운데번호 획득\n",
    "# 이 방식은 정규식 자체가 그룹화되지 않아서 세부 정보를 취할 수가 없다.\n",
    "# 그룹화를 이용하면 상세정보를 그룹별로 취할 수 있어서 데이터를 획득하기가 용이하다."
   ]
  },
  {
   "cell_type": "code",
   "execution_count": 113,
   "metadata": {},
   "outputs": [],
   "source": [
    "p = re.compile(r'(\\w+)\\s+(\\d+[-]\\d+[-]\\d+)')\n",
    "m = p.search( '부산대역 010-1234-5678 abcd')\n"
   ]
  },
  {
   "cell_type": "code",
   "execution_count": 120,
   "metadata": {},
   "outputs": [
    {
     "data": {
      "text/plain": [
       "(('부산대역', '010-1234-5678'), '부산대역', '010-1234-5678')"
      ]
     },
     "execution_count": 120,
     "metadata": {},
     "output_type": "execute_result"
    }
   ],
   "source": [
    "m.groups(), m.group(1), m.group(2)"
   ]
  },
  {
   "cell_type": "code",
   "execution_count": 121,
   "metadata": {},
   "outputs": [
    {
     "data": {
      "text/plain": [
       "2"
      ]
     },
     "execution_count": 121,
     "metadata": {},
     "output_type": "execute_result"
    }
   ],
   "source": [
    "len(m.groups())"
   ]
  },
  {
   "cell_type": "code",
   "execution_count": 122,
   "metadata": {},
   "outputs": [
    {
     "name": "stdout",
     "output_type": "stream",
     "text": [
      "부산대역\n",
      "010-1234-5678\n"
     ]
    }
   ],
   "source": [
    "# for n in range(1,3):\n",
    "for n in range(1, len(m.groups())+1 ):\n",
    "    print( m.group(n) )"
   ]
  },
  {
   "cell_type": "code",
   "execution_count": 125,
   "metadata": {},
   "outputs": [],
   "source": [
    "# 전화번호 상세 정보가 그룹화 되어있지 않다.\n",
    "# 그룹 안에 그룹화처리를 하면 자동 분류가 된다.\n",
    "\n",
    "p = re.compile(r'(\\w+)\\s+((\\d+)[-](\\d+)[-](\\d+))')\n",
    "m = p.search( '부산대역 010-1234-5678 abcd')"
   ]
  },
  {
   "cell_type": "code",
   "execution_count": 126,
   "metadata": {},
   "outputs": [
    {
     "data": {
      "text/plain": [
       "('부산대역', '010-1234-5678', '010', '1234', '5678')"
      ]
     },
     "execution_count": 126,
     "metadata": {},
     "output_type": "execute_result"
    }
   ],
   "source": [
    "m.groups()"
   ]
  },
  {
   "cell_type": "code",
   "execution_count": 127,
   "metadata": {},
   "outputs": [
    {
     "name": "stdout",
     "output_type": "stream",
     "text": [
      "부산대역\n",
      "010-1234-5678\n",
      "010\n",
      "1234\n",
      "5678\n"
     ]
    }
   ],
   "source": [
    "for n in range(1, len(m.groups())+1 ):\n",
    "    print( m.group(n) )"
   ]
  },
  {
   "cell_type": "markdown",
   "metadata": {},
   "source": [
    "#### 그룹핑된 문자열의 재참조\n",
    "\n",
    "- 그룹핑 : 첫번째 그룹, 두번째 그룹, 세번째 그룹...\n",
    "- \\1, \\2, \\3,..."
   ]
  },
  {
   "cell_type": "code",
   "execution_count": 131,
   "metadata": {},
   "outputs": [],
   "source": [
    "# 자기 참조는 정규식 형태도 일치하면서 값도 일치하는 경우\n",
    "p = re.compile( r'(\\b\\w+)\\s+\\1' )\n",
    "m = p.search( 'python numpy pandas pandas scipy tensorflow' )"
   ]
  },
  {
   "cell_type": "code",
   "execution_count": 132,
   "metadata": {},
   "outputs": [
    {
     "data": {
      "text/plain": [
       "'pandas pandas'"
      ]
     },
     "execution_count": 132,
     "metadata": {},
     "output_type": "execute_result"
    }
   ],
   "source": [
    "m.group()"
   ]
  },
  {
   "cell_type": "code",
   "execution_count": 133,
   "metadata": {},
   "outputs": [
    {
     "data": {
      "text/plain": [
       "('pandas',)"
      ]
     },
     "execution_count": 133,
     "metadata": {},
     "output_type": "execute_result"
    }
   ],
   "source": [
    "m.groups()"
   ]
  },
  {
   "cell_type": "markdown",
   "metadata": {},
   "source": [
    "#### 그룹핑된 문자열 네이밍 처리"
   ]
  },
  {
   "cell_type": "code",
   "execution_count": 143,
   "metadata": {},
   "outputs": [],
   "source": [
    "# (?P<이름>정규식)\n",
    "p = re.compile(r'(?P<NAME>\\w+)\\s+(\\d+[-]\\d+[-]\\d+)')\n",
    "m = p.search( '부산대역 010-1234-5678 abcd')"
   ]
  },
  {
   "cell_type": "code",
   "execution_count": 144,
   "metadata": {},
   "outputs": [
    {
     "data": {
      "text/plain": [
       "('부산대역', '010-1234-5678')"
      ]
     },
     "execution_count": 144,
     "metadata": {},
     "output_type": "execute_result"
    }
   ],
   "source": [
    "m.groups()"
   ]
  },
  {
   "cell_type": "code",
   "execution_count": 146,
   "metadata": {},
   "outputs": [
    {
     "data": {
      "text/plain": [
       "('부산대역', '부산대역')"
      ]
     },
     "execution_count": 146,
     "metadata": {},
     "output_type": "execute_result"
    }
   ],
   "source": [
    "# 이름을 부여하면 순서를 몰라도 된다.\n",
    "m.group(1), m.group('NAME')"
   ]
  },
  {
   "cell_type": "markdown",
   "metadata": {},
   "source": [
    "#### 자기 참조를 했는데 이름이 있다."
   ]
  },
  {
   "cell_type": "code",
   "execution_count": 149,
   "metadata": {},
   "outputs": [],
   "source": [
    "# 자기 참조 그룹의 이름으로 자기 참조를 수행하는 방법\n",
    "# (?P=이름)\n",
    "p = re.compile( r'(?P<BS>\\b\\w+)\\s+(?P=BS)' )\n",
    "m = p.search( 'python numpy pandas pandas scipy tensorflow' )"
   ]
  },
  {
   "cell_type": "code",
   "execution_count": 151,
   "metadata": {},
   "outputs": [
    {
     "data": {
      "text/plain": [
       "'pandas pandas'"
      ]
     },
     "execution_count": 151,
     "metadata": {},
     "output_type": "execute_result"
    }
   ],
   "source": [
    "m.group()"
   ]
  },
  {
   "cell_type": "markdown",
   "metadata": {},
   "source": [
    "### 컴파일 옵션\n",
    "\n",
    "- re.compile( '정규식', '옵션' )\n",
    "- DOTALL, S\n",
    "    - 모든 문자 대비(\\n 제외) => .\n",
    "    - 모든 문자 대비(\\n 포함) \n",
    "- IGNORECASE, I\n",
    "    - 대소문자 구분없이 매칭\n",
    "- MULTILINE, M\n",
    "    - 여러줄 매칭\n",
    "- VERBOSE, X\n",
    "    - 복잡한 정규식을 사용하면 해석이 어렵다.\n",
    "    - 정규식을 펼쳐서 각표현별로 주석을 다는 등을 할 수 있다."
   ]
  },
  {
   "cell_type": "markdown",
   "metadata": {},
   "source": [
    "#### DOTALL, S"
   ]
  },
  {
   "cell_type": "code",
   "execution_count": 6,
   "metadata": {},
   "outputs": [
    {
     "name": "stdout",
     "output_type": "stream",
     "text": [
      "a|b\n",
      "None\n",
      "a\tb\n",
      "acb\n"
     ]
    }
   ],
   "source": [
    "p = re.compile('a.b')\n",
    "print( p.match('a|b').group() )\n",
    "print( p.match('a\\nb') )\n",
    "print( p.match('a\\tb').group() )\n",
    "print( p.match('acb').group() )"
   ]
  },
  {
   "cell_type": "code",
   "execution_count": 7,
   "metadata": {},
   "outputs": [
    {
     "name": "stdout",
     "output_type": "stream",
     "text": [
      "a|b\n",
      "a\n",
      "b\n"
     ]
    }
   ],
   "source": [
    "p = re.compile('a.b', re.DOTALL )\n",
    "print( p.match('a|b').group() )\n",
    "print( p.match('a\\nb').group() )"
   ]
  },
  {
   "cell_type": "code",
   "execution_count": 10,
   "metadata": {},
   "outputs": [
    {
     "name": "stdout",
     "output_type": "stream",
     "text": [
      "a|b\n",
      "a\n",
      "b\n"
     ]
    }
   ],
   "source": [
    "p = re.compile('a.b', re.S )\n",
    "print( p.match('a|b').group() )\n",
    "print( p.match('a\\nb').group() )"
   ]
  },
  {
   "cell_type": "markdown",
   "metadata": {},
   "source": [
    "#### IGNORECASE, I"
   ]
  },
  {
   "cell_type": "code",
   "execution_count": 11,
   "metadata": {},
   "outputs": [
    {
     "name": "stdout",
     "output_type": "stream",
     "text": [
      "p\n",
      "None\n",
      "None\n"
     ]
    }
   ],
   "source": [
    "p = re.compile('[a-z]')\n",
    "print( p.match('python').group() )\n",
    "print( p.match('Python') )\n",
    "print( p.match('PYTHON') )"
   ]
  },
  {
   "cell_type": "code",
   "execution_count": 13,
   "metadata": {},
   "outputs": [
    {
     "name": "stdout",
     "output_type": "stream",
     "text": [
      "p\n",
      "<re.Match object; span=(0, 1), match='P'>\n",
      "<re.Match object; span=(0, 1), match='P'>\n",
      "None\n"
     ]
    }
   ],
   "source": [
    "p = re.compile('[a-z]', re.I )\n",
    "print( p.match('python').group() )\n",
    "print( p.match('Python') )\n",
    "print( p.match('PYTHON') )\n",
    "print( p.match('1PYTHON') )"
   ]
  },
  {
   "cell_type": "markdown",
   "metadata": {},
   "source": [
    "#### VERBOSE, X"
   ]
  },
  {
   "cell_type": "code",
   "execution_count": 17,
   "metadata": {},
   "outputs": [],
   "source": [
    "# 정규식을 이해하는데 시간이 걸린다.\n",
    "x = re.compile( r'(0[0-7]+|[0-9]+|x[0-9a-fA-F]+);' )"
   ]
  },
  {
   "cell_type": "code",
   "execution_count": 18,
   "metadata": {},
   "outputs": [],
   "source": [
    "x = re.compile( r\"\"\"\n",
    "(                     # 그룹핑 시작\n",
    "    0[0-7]+           # 8진수\n",
    "    |                 # or 혹은\n",
    "    [0-9]+            # 10진수\n",
    "    |                 # or 혹은\n",
    "    x[0-9a-fA-F]+     # 16진수\n",
    ")                     # 그룹핑 끝\n",
    ";\n",
    "\"\"\", re.VERBOSE )"
   ]
  },
  {
   "cell_type": "markdown",
   "metadata": {},
   "source": [
    "### 전방탐색(Lookahead Asserions)\n",
    "\n",
    "- Positive(긍정)\n",
    "    - 긍정형 전방 탐색 (?=..)\n",
    "- Negaitve(부정)\n",
    "    - 부정형 탐색 (?!..)"
   ]
  },
  {
   "cell_type": "code",
   "execution_count": 23,
   "metadata": {},
   "outputs": [
    {
     "data": {
      "text/plain": [
       "'http'"
      ]
     },
     "execution_count": 23,
     "metadata": {},
     "output_type": "execute_result"
    }
   ],
   "source": [
    "# http://ID:PW@m.naver.com\n",
    "# OSI 7 Layer의 3/4 계층 TCP/IP의 프로토콜 규격\n",
    "# 실습 = http를 획득해라\n",
    "# http://m.naver.com\n",
    "re.match( '\\w+', 'http://m.naver.com' ).group()"
   ]
  },
  {
   "cell_type": "code",
   "execution_count": 24,
   "metadata": {},
   "outputs": [
    {
     "data": {
      "text/plain": [
       "'http:'"
      ]
     },
     "execution_count": 24,
     "metadata": {},
     "output_type": "execute_result"
    }
   ],
   "source": [
    "p = re.compile('.+:')\n",
    "m = p.search('http://m.naver.com')\n",
    "m.group()"
   ]
  },
  {
   "cell_type": "code",
   "execution_count": 25,
   "metadata": {},
   "outputs": [
    {
     "data": {
      "text/plain": [
       "'http'"
      ]
     },
     "execution_count": 25,
     "metadata": {},
     "output_type": "execute_result"
    }
   ],
   "source": [
    "# http, https, smtp, ftp ..etc.. 프로토콜 명만 원한다.\n",
    "# 전방탐색은 정규식 표현이 까다롭고, 그룹핑 적용도 다소 어려운 조건일 경우 사용\n",
    "# 긍정형 전방 탐색\n",
    "# 여기서는 :을 기준으로 앞쪽을 탐색한다.\n",
    "p = re.compile('.+(?=:)')\n",
    "m = p.search('http://m.naver.com')\n",
    "m.group()"
   ]
  },
  {
   "cell_type": "code",
   "execution_count": null,
   "metadata": {},
   "outputs": [],
   "source": [
    "# 부정형\n",
    "# .*[.].*$ => 파일명\n",
    "# 이런 정규식에서 확장자 중에 py, msi가 들어간 파일은 제외\n",
    "# 부정형 전방탐색"
   ]
  },
  {
   "cell_type": "code",
   "execution_count": 26,
   "metadata": {},
   "outputs": [],
   "source": [
    "p = re.compile('.*[.](?!py$|msi$).*$')"
   ]
  },
  {
   "cell_type": "code",
   "execution_count": 27,
   "metadata": {},
   "outputs": [
    {
     "data": {
      "text/plain": [
       "'a.hwp'"
      ]
     },
     "execution_count": 27,
     "metadata": {},
     "output_type": "execute_result"
    }
   ],
   "source": [
    "p.search('a.hwp').group()"
   ]
  },
  {
   "cell_type": "code",
   "execution_count": 31,
   "metadata": {},
   "outputs": [
    {
     "name": "stdout",
     "output_type": "stream",
     "text": [
      "None\n"
     ]
    }
   ],
   "source": [
    "print( p.search('a.py') )"
   ]
  },
  {
   "cell_type": "code",
   "execution_count": 32,
   "metadata": {},
   "outputs": [
    {
     "name": "stdout",
     "output_type": "stream",
     "text": [
      "None\n"
     ]
    }
   ],
   "source": [
    "print( p.search('a.msi') )"
   ]
  },
  {
   "cell_type": "code",
   "execution_count": 33,
   "metadata": {},
   "outputs": [
    {
     "name": "stdout",
     "output_type": "stream",
     "text": [
      "<re.Match object; span=(0, 5), match='a.py2'>\n"
     ]
    }
   ],
   "source": [
    "print( p.search('a.py2') )"
   ]
  },
  {
   "cell_type": "code",
   "execution_count": 34,
   "metadata": {},
   "outputs": [
    {
     "name": "stdout",
     "output_type": "stream",
     "text": [
      "<re.Match object; span=(0, 5), match='a.2py'>\n"
     ]
    }
   ],
   "source": [
    "print( p.search('a.2py') )"
   ]
  },
  {
   "cell_type": "code",
   "execution_count": 35,
   "metadata": {},
   "outputs": [
    {
     "name": "stdout",
     "output_type": "stream",
     "text": [
      "<re.Match object; span=(0, 4), match='a.PY'>\n"
     ]
    }
   ],
   "source": [
    "print( p.search('a.PY') )"
   ]
  },
  {
   "cell_type": "markdown",
   "metadata": {},
   "source": [
    "#### 실습\n",
    "\n",
    "- 주민번호 필터링\n",
    "- 000101-5123456 => 000101-*******"
   ]
  },
  {
   "cell_type": "code",
   "execution_count": 40,
   "metadata": {},
   "outputs": [],
   "source": [
    "# 숫자의 의미를 분석하여 정규식을 정하는 부분은 제외\n",
    "p = re.compile( '(\\d{6})[-]\\d{7,7}' )"
   ]
  },
  {
   "cell_type": "code",
   "execution_count": 48,
   "metadata": {},
   "outputs": [],
   "source": [
    "data = '''\n",
    "MBC 940101-1234567\n",
    "KBS 950101-2234567\n",
    "'''"
   ]
  },
  {
   "cell_type": "code",
   "execution_count": 49,
   "metadata": {},
   "outputs": [
    {
     "name": "stdout",
     "output_type": "stream",
     "text": [
      "\n",
      "MBC 940101-*******\n",
      "KBS 950101-*******\n",
      "\n"
     ]
    }
   ],
   "source": [
    "# \\g<1> : 1번 그룹 참조\n",
    "print( p.sub( '\\g<1>-*******', data ) )"
   ]
  },
  {
   "cell_type": "code",
   "execution_count": 50,
   "metadata": {},
   "outputs": [],
   "source": [
    "p = re.compile( '(\\d{6})[-](\\d)(\\d{6,6})' )"
   ]
  },
  {
   "cell_type": "code",
   "execution_count": 51,
   "metadata": {},
   "outputs": [
    {
     "name": "stdout",
     "output_type": "stream",
     "text": [
      "\n",
      "MBC 940101-1******\n",
      "KBS 950101-2******\n",
      "\n"
     ]
    }
   ],
   "source": [
    "print( p.sub( '\\g<1>-\\g<2>******', data ) )"
   ]
  },
  {
   "cell_type": "code",
   "execution_count": 54,
   "metadata": {},
   "outputs": [
    {
     "name": "stdout",
     "output_type": "stream",
     "text": [
      "\n",
      "MBC 234567******\n",
      "KBS 234567******\n",
      "\n"
     ]
    }
   ],
   "source": [
    "print( p.sub( '\\g<3>' '******', data ) )"
   ]
  },
  {
   "cell_type": "code",
   "execution_count": null,
   "metadata": {},
   "outputs": [],
   "source": []
  }
 ],
 "metadata": {
  "kernelspec": {
   "display_name": "Python 3",
   "language": "python",
   "name": "python3"
  },
  "language_info": {
   "codemirror_mode": {
    "name": "ipython",
    "version": 3
   },
   "file_extension": ".py",
   "mimetype": "text/x-python",
   "name": "python",
   "nbconvert_exporter": "python",
   "pygments_lexer": "ipython3",
   "version": "3.7.4"
  }
 },
 "nbformat": 4,
 "nbformat_minor": 2
}
