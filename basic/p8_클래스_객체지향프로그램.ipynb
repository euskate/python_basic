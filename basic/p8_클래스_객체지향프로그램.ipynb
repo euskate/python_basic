{
 "cells": [
  {
   "cell_type": "markdown",
   "metadata": {},
   "source": [
    "## class, 객체\n",
    "\n",
    "- 용어 정리\n",
    "    - 개체:이 세상에 존재하는 모든 유형/무형(사고,생각 등등)\n",
    "        - entity\n",
    "        - 전산에서 코드를 구현할 대상이 된다.\n",
    "    - class\n",
    "        - 사람이라는 유형을 전산으로 구현해보자\n",
    "        - 전산 상에서는 이를 구현할 수 있는 기준, 용어가 필요\n",
    "        - 이를 클래스라고 정의한다.\n",
    "        - 클래스는 개체를 구현하는 방법(룰, 문법)\n",
    "        - 클래스를 작성한 코드를 구현하면 클래스가 메모리에 로드되는데, 이를 객체라고 부른다.\n",
    "    - 객체(Object):\n",
    "        - 여러 개 생성할 수 있다.\n",
    "        - 그런 동일한 객체들은 동일한 특성을 가진다.\n",
    "            - 눈이 2개, 입이 1개 등등\n",
    "            - 특성 : 문법적으로는 변수로 표현\n",
    "            - 멤버 변수\n",
    "        - 그런 동일한 객체들은 동일한 행동을 가진다.\n",
    "            - 밥을 먹는다, 달린다 등등\n",
    "            - 행동 : 문법적으로는 함수로 표현\n",
    "            - 멤버 함수\n",
    "    - 객체를 중심으로(class를 중심으로) 코드가 작성되고, 관리되면,\n",
    "    - 객체 지향 프로그램(OOP, object-oriented program)이라고 부른다.\n",
    "        - C++에서 처음 등장, JAVA에서 발전시켰고, 이후는 대부분의 언어가 지원\n",
    "        - 상속성\n",
    "            - 부모, 자식관계를 통해서 상속을 받은 자식은 부모의 모든 기능을 그대로 사용 가능\n",
    "            - 자식은 재정의하거나 기능을 추가할 수 있다.\n",
    "            - <= 파이썬은 상속성만 신경쓴다.\n",
    "        ---------------------------------------------------------------------\n",
    "        - 캡슐화(데이터를 내부로 숨기고, 정해진 함수를 통해서 데이터를 읽고, 쓰기)\n",
    "        - 다형성\n",
    "    "
   ]
  },
  {
   "cell_type": "code",
   "execution_count": null,
   "metadata": {},
   "outputs": [],
   "source": [
    "# 형식 : class 기술법 (관습적으로 첫글자가 대문자)\n",
    "# 구성원을 일부 보여주면서 class를 정의\n",
    "class Person:\n",
    "    '''\n",
    "    멤버 변수\n",
    "    '''\n",
    "    name = '홍길동'\n",
    "    '''\n",
    "    멤버 함수\n",
    "    '''\n",
    "    def getName():\n",
    "        print('Person의 이름입니다.')\n",
    "    '''\n",
    "    생성자\n",
    "    '''"
   ]
  },
  {
   "cell_type": "code",
   "execution_count": null,
   "metadata": {},
   "outputs": [],
   "source": [
    "# 함수 : 호출해야 존재하고\n",
    "# 클래스 : 생성해야 존재한다.\n",
    "# 생성 => 클래스명( [인자...] )"
   ]
  },
  {
   "cell_type": "code",
   "execution_count": null,
   "metadata": {},
   "outputs": [],
   "source": [
    "p = Person()\n",
    "p"
   ]
  },
  {
   "cell_type": "code",
   "execution_count": null,
   "metadata": {},
   "outputs": [],
   "source": [
    "# p라는 객체의 멤버들을 접근하고 싶으면 .(도트 연산자 사용)\n",
    "p.name"
   ]
  },
  {
   "cell_type": "code",
   "execution_count": null,
   "metadata": {},
   "outputs": [],
   "source": [
    "p.getName()"
   ]
  },
  {
   "cell_type": "markdown",
   "metadata": {},
   "source": [
    "- 클래스의 내부에 존재하는 모든 함수의 1번 인자는\n",
    "- 클래스 자기 자신을 설명하는 키워드 => self로 세팅된다.\n",
    "- 타 언어에서는 this라고 표현한다."
   ]
  },
  {
   "cell_type": "code",
   "execution_count": null,
   "metadata": {},
   "outputs": [],
   "source": [
    "class Person:\n",
    "    name = '홍길동'\n",
    "    def getName( self ):\n",
    "        print('Person의 이름입니다.')\n",
    "    '''\n",
    "    생성자\n",
    "    '''"
   ]
  },
  {
   "cell_type": "code",
   "execution_count": null,
   "metadata": {},
   "outputs": [],
   "source": [
    "p = Person()"
   ]
  },
  {
   "cell_type": "code",
   "execution_count": null,
   "metadata": {},
   "outputs": [],
   "source": [
    "p.getName()"
   ]
  },
  {
   "cell_type": "markdown",
   "metadata": {},
   "source": [
    "- 생성자 constructor <= 형태는 함수이다.\n",
    "- 클래스를 보고 객체를 생성하는 실제적인 작업 진행\n",
    "- 기본 생성자는 생략가능하다.\n",
    "- 생성자의 기본 역할 중에 하나는 멤버 변수 초기화\n",
    "- 이름 : __init__"
   ]
  },
  {
   "cell_type": "code",
   "execution_count": null,
   "metadata": {},
   "outputs": [],
   "source": [
    "class Person:\n",
    "    name = '홍길동'\n",
    "    def getName( self ):\n",
    "        print('Person의 이름입니다.')\n",
    "    '''\n",
    "    생성자: 객체를 생성하고, 멤버변수를 초기화(옵션)\n",
    "    '''\n",
    "    def __init__( self ):\n",
    "        print('객체 생성')"
   ]
  },
  {
   "cell_type": "code",
   "execution_count": null,
   "metadata": {},
   "outputs": [],
   "source": [
    "Person()"
   ]
  },
  {
   "cell_type": "code",
   "execution_count": null,
   "metadata": {},
   "outputs": [],
   "source": [
    "# 초기화 => 최초, 맨처음에 값을 세팅하는 행위\n",
    "# 변수를 사용하기 전에 초기값을 넣는 행위 => 초기화(Initialize)\n",
    "a = None\n",
    "a = 1"
   ]
  },
  {
   "cell_type": "code",
   "execution_count": null,
   "metadata": {},
   "outputs": [],
   "source": [
    "# 멤버변수를 초기화(옵션)\n",
    "class Person:\n",
    "    name = None\n",
    "    def getName( self ):\n",
    "#         print(f'Person의 이름은 {self.name}입니다.')\n",
    "        print('Person의 이름은 %s입니다.' % self.name)\n",
    "    def __init__( self, name ):\n",
    "        print('객체 생성')\n",
    "        # 클래스 내부에서 멤버들을 사용할 경우\n",
    "        # self.변수, self.함수\n",
    "        # 멤버 변수 초기화\n",
    "        self.name = name"
   ]
  },
  {
   "cell_type": "code",
   "execution_count": null,
   "metadata": {},
   "outputs": [],
   "source": [
    "p = Person( '부산대역' )\n",
    "p.name"
   ]
  },
  {
   "cell_type": "code",
   "execution_count": null,
   "metadata": {},
   "outputs": [],
   "source": [
    "p.getName()\n",
    "# Person의 이름은 부산대역입니다. <= 구현"
   ]
  },
  {
   "cell_type": "code",
   "execution_count": null,
   "metadata": {},
   "outputs": [],
   "source": [
    "# 멤버변수를 초기화(옵션)\n",
    "class Person:\n",
    "    # 이미 멤버 변수 초기화는 수행되었따. => 값을 넣었다.\n",
    "    name   = None\n",
    "    age    = 25\n",
    "    weight = 300\n",
    "    def getName( self ):\n",
    "#         print(f'Person의 이름은 {self.name}입니다.')\n",
    "        print('Person의 이름은 %s입니다.' % self.name)\n",
    "    # 만약, 객체를 만들면서 그것을 변경하고 싶다면\n",
    "    def __init__( self, name, age, weight ):\n",
    "        print('객체 생성')\n",
    "        if name:\n",
    "            self.name = name\n",
    "        if age:\n",
    "            self.age = age\n",
    "        if weight:\n",
    "            self.weight = weight"
   ]
  },
  {
   "cell_type": "markdown",
   "metadata": {},
   "source": [
    "### 상속\n",
    "\n",
    "- A라는 클래스를 상속받은 클래스가 B이다.\n",
    "- A는 부모, B는 자식, 자식은 여러 개 일수 있다.\n",
    "- 자식은 부모의 것을 그대로 물려받고, 그것을 개선, 추가할 수 있다.\n",
    "- 다음 문구 확인 : 객체 지향 프로그램에서 부모, 자식 관계를 설명하는 명제\n",
    "    A has a B => o\n",
    "    B is a A  => o  \n",
    "  \n",
    "- **자식은 부모의 것을 그대로 물려받고, 그것을 개선(재정의:overriding) , 추가할 수 있다.**\n",
    "- + 거꾸로 = 추상화(abstract)"
   ]
  },
  {
   "cell_type": "code",
   "execution_count": null,
   "metadata": {},
   "outputs": [],
   "source": [
    "# 모든 클래스의 슈퍼 클래서는 Object\n",
    "# 이것은 보통 생략 가능하다\n",
    "# 특정 클래스를 상속 => 클래스명(부모클래스명)\n",
    "class XMan(Person):\n",
    "    pass"
   ]
  },
  {
   "cell_type": "code",
   "execution_count": null,
   "metadata": {},
   "outputs": [],
   "source": [
    "x = XMan(1,2,3)"
   ]
  },
  {
   "cell_type": "code",
   "execution_count": null,
   "metadata": {},
   "outputs": [],
   "source": [
    "x.getName()"
   ]
  },
  {
   "cell_type": "code",
   "execution_count": null,
   "metadata": {},
   "outputs": [],
   "source": [
    "class XMan(Person):\n",
    "    def eat( self ):\n",
    "        print('나는 점심을 5분만에 다 먹는다. 어떤 메뉴든지')"
   ]
  },
  {
   "cell_type": "code",
   "execution_count": null,
   "metadata": {},
   "outputs": [],
   "source": [
    "x = XMan(1,2,3)\n",
    "x.eat()"
   ]
  },
  {
   "cell_type": "markdown",
   "metadata": {},
   "source": [
    "- Enemy 클래스 생성\n",
    "- Enemy 클래스는\n",
    "    - SPEED, HP, EXP, LEVEL, COLOR, x, y 등 속성이 있다.\n",
    "    - move, attak, damage 등의 행동을 가지고 있다.\n",
    "    - 이런 클래스를 구현하시오.\n",
    "    - 전제하지 않은 것들은 가정하시오\n",
    "    \n",
    "    - 적을 100개 생성하시오\n",
    "    - 적을 10*10으로 배치하는데, 적의 크기는 10x10이다.\n",
    "    - 공간의 크기가 가로 200, 세로 600이다.\n",
    "    - 적을 100개 생성하는데, 좌표는 다르게 부여한다.\n",
    "    - 가로로 10개, 세로로 10개씩 배치된다.\n",
    "    - 좌표계는 1/4분면이다."
   ]
  },
  {
   "cell_type": "code",
   "execution_count": 1,
   "metadata": {},
   "outputs": [],
   "source": [
    "# 클래스는 새로운 자료구조를 정의하는 형태\n",
    "# 데이터뿐만 아니라, 행동(함수)도 같이 가질 수 있는 자료 구조\n",
    "class Enemy:\n",
    "    # 멤버 변수\n",
    "    speed, hp, exp, level, color, x, y = (0,0,0,0,0,0,0)\n",
    "    # 멤버 함수\n",
    "    def move(self):pass\n",
    "    def attack(self):pass\n",
    "    def damage(self):pass\n",
    "    # 생성자\n",
    "    def __init__(self):\n",
    "        pass"
   ]
  },
  {
   "cell_type": "code",
   "execution_count": 5,
   "metadata": {},
   "outputs": [],
   "source": [
    "enemies = list()\n",
    "for n in range(100):\n",
    "    enemies.append( Enemy() )"
   ]
  },
  {
   "cell_type": "code",
   "execution_count": null,
   "metadata": {},
   "outputs": [],
   "source": [
    "len(enemies), enemies[:2]"
   ]
  },
  {
   "cell_type": "code",
   "execution_count": 13,
   "metadata": {},
   "outputs": [],
   "source": [
    "# 객체 100개를 모두 삭제\n",
    "for en in enemies:\n",
    "    del en\n",
    "enemies.clear()"
   ]
  },
  {
   "cell_type": "code",
   "execution_count": null,
   "metadata": {},
   "outputs": [],
   "source": [
    "enemies"
   ]
  },
  {
   "cell_type": "markdown",
   "metadata": {},
   "source": [
    "### 좌표를 부여하여 생성"
   ]
  },
  {
   "cell_type": "code",
   "execution_count": 2,
   "metadata": {},
   "outputs": [],
   "source": [
    "e1 = Enemy()\n",
    "e1.x = 10\n",
    "e1.y = 20\n",
    "# 이렇게 짜보니, 좌표 받는데 3줄이나 표현해야 한다 ->\n",
    "# Enemy의 자식은 생성할 때 바로 x,y를 받게 구현하겠다."
   ]
  },
  {
   "cell_type": "code",
   "execution_count": 7,
   "metadata": {},
   "outputs": [],
   "source": [
    "# 적 비행기의 최초 출현하는 y 좌표\n",
    "std_y_start = 150\n",
    "# 적 비행기의 높이\n",
    "enenmy_h    = 10\n",
    "# 적 비행기의 최초 출현하는 y 좌표\n",
    "std_x_start = 100\n",
    "# 적 비행기의 너비\n",
    "enenmy_w    = 10\n",
    "for y in range(10): # y좌표\n",
    "    for x in range(10): # x좌표\n",
    "        tx = std_x_start + x * enenmy_w\n",
    "        ty = std_y_start + y * enenmy_h"
   ]
  },
  {
   "cell_type": "code",
   "execution_count": 3,
   "metadata": {},
   "outputs": [],
   "source": [
    "# 클래스를 상속받았다 -> 상속:재정의 or 추가\n",
    "class EnemyEx(Enemy):\n",
    "    def __init__(self, x, y):\n",
    "        self.x = x\n",
    "        self.y = y"
   ]
  },
  {
   "cell_type": "code",
   "execution_count": 4,
   "metadata": {},
   "outputs": [
    {
     "data": {
      "text/plain": [
       "<__main__.EnemyEx at 0x198d6c1b748>"
      ]
     },
     "execution_count": 4,
     "metadata": {},
     "output_type": "execute_result"
    }
   ],
   "source": [
    "EnemyEx(10, 20)"
   ]
  },
  {
   "cell_type": "code",
   "execution_count": 14,
   "metadata": {},
   "outputs": [
    {
     "data": {
      "text/plain": [
       "100"
      ]
     },
     "execution_count": 14,
     "metadata": {},
     "output_type": "execute_result"
    }
   ],
   "source": [
    "# 적 비행기의 최초 출현하는 y 좌표\n",
    "std_y_start = 150\n",
    "# 적 비행기의 높이\n",
    "enenmy_h    = 10\n",
    "# 적 비행기의 최초 출현하는 y 좌표\n",
    "std_x_start = 100\n",
    "# 적 비행기의 너비\n",
    "enenmy_w    = 10\n",
    "\n",
    "for y in range(10): # y좌표\n",
    "    for x in range(10): # x좌표\n",
    "        tx = std_x_start + x * enenmy_w\n",
    "        ty = std_y_start + y * enenmy_h\n",
    "        enemies.append(EnemyEx(tx,ty))\n",
    "        \n",
    "len(enemies)"
   ]
  },
  {
   "cell_type": "code",
   "execution_count": 25,
   "metadata": {},
   "outputs": [
    {
     "name": "stdout",
     "output_type": "stream",
     "text": [
      "100 150\n",
      "110 150\n",
      "120 150\n",
      "130 150\n",
      "140 150\n",
      "150 150\n",
      "160 150\n",
      "170 150\n",
      "180 150\n",
      "190 150\n",
      "100 160\n",
      "110 160\n",
      "120 160\n",
      "130 160\n",
      "140 160\n",
      "150 160\n",
      "160 160\n",
      "170 160\n",
      "180 160\n",
      "190 160\n",
      "100 170\n",
      "110 170\n",
      "120 170\n",
      "130 170\n",
      "140 170\n",
      "150 170\n",
      "160 170\n",
      "170 170\n",
      "180 170\n",
      "190 170\n",
      "100 180\n",
      "110 180\n",
      "120 180\n",
      "130 180\n",
      "140 180\n",
      "150 180\n",
      "160 180\n",
      "170 180\n",
      "180 180\n",
      "190 180\n",
      "100 190\n",
      "110 190\n",
      "120 190\n",
      "130 190\n",
      "140 190\n",
      "150 190\n",
      "160 190\n",
      "170 190\n",
      "180 190\n",
      "190 190\n",
      "100 200\n",
      "110 200\n",
      "120 200\n",
      "130 200\n",
      "140 200\n",
      "150 200\n",
      "160 200\n",
      "170 200\n",
      "180 200\n",
      "190 200\n",
      "100 210\n",
      "110 210\n",
      "120 210\n",
      "130 210\n",
      "140 210\n",
      "150 210\n",
      "160 210\n",
      "170 210\n",
      "180 210\n",
      "190 210\n",
      "100 220\n",
      "110 220\n",
      "120 220\n",
      "130 220\n",
      "140 220\n",
      "150 220\n",
      "160 220\n",
      "170 220\n",
      "180 220\n",
      "190 220\n",
      "100 230\n",
      "110 230\n",
      "120 230\n",
      "130 230\n",
      "140 230\n",
      "150 230\n",
      "160 230\n",
      "170 230\n",
      "180 230\n",
      "190 230\n",
      "100 240\n",
      "110 240\n",
      "120 240\n",
      "130 240\n",
      "140 240\n",
      "150 240\n",
      "160 240\n",
      "170 240\n",
      "180 240\n",
      "190 240\n"
     ]
    }
   ],
   "source": [
    "for i in range(100):\n",
    "    print( enemies[i].x, enemies[i].y )"
   ]
  },
  {
   "cell_type": "code",
   "execution_count": null,
   "metadata": {},
   "outputs": [],
   "source": []
  }
 ],
 "metadata": {
  "kernelspec": {
   "display_name": "Python 3",
   "language": "python",
   "name": "python3"
  },
  "language_info": {
   "codemirror_mode": {
    "name": "ipython",
    "version": 3
   },
   "file_extension": ".py",
   "mimetype": "text/x-python",
   "name": "python",
   "nbconvert_exporter": "python",
   "pygments_lexer": "ipython3",
   "version": "3.7.4"
  }
 },
 "nbformat": 4,
 "nbformat_minor": 2
}
